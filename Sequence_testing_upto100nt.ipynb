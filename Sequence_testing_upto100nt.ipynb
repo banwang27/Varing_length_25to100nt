{
 "cells": [
  {
   "cell_type": "code",
   "execution_count": 1,
   "metadata": {
    "collapsed": false
   },
   "outputs": [
    {
     "name": "stderr",
     "output_type": "stream",
     "text": [
      "Using TensorFlow backend.\n"
     ]
    }
   ],
   "source": [
    "import pandas as pd\n",
    "import numpy as np\n",
    "import matplotlib as mpl\n",
    "import matplotlib.pyplot as plt\n",
    "import scipy.stats as stats\n",
    "import seaborn as sns\n",
    "from sklearn import preprocessing\n",
    "from sklearn.model_selection import train_test_split\n",
    "import random\n",
    "import cPickle as pickle\n",
    "from matplotlib import ticker\n",
    "%matplotlib inline\n",
    "pd.set_option(\"display.max_colwidth\",100)\n",
    "sns.set(style=\"ticks\", color_codes=True)\n",
    "\n",
    "np.random.seed(1337)\n",
    "import keras\n",
    "\n",
    "from keras.preprocessing import sequence\n",
    "from keras.optimizers import RMSprop\n",
    "from keras.models import Sequential\n",
    "from keras.layers.core import Dense\n",
    "from keras.layers.core import Dropout\n",
    "from keras.layers.core import Activation\n",
    "from keras.layers.core import Flatten\n",
    "from keras.layers.convolutional import Convolution1D, MaxPooling1D\n",
    "from keras.constraints import maxnorm\n",
    "from keras.callbacks import ModelCheckpoint, EarlyStopping\n",
    "\n",
    "### Plotting settings ###\n",
    "plt.rcParams['font.weight'] = 'normal'\n",
    "plt.rcParams['axes.labelweight'] = 'normal'\n",
    "plt.rcParams['axes.labelpad'] = 1\n",
    "plt.rcParams['axes.linewidth']= 0.75\n",
    "plt.rcParams['xtick.labelsize']= 5\n",
    "plt.rcParams['ytick.labelsize']= 5\n",
    "plt.rcParams['axes.labelsize'] = 5\n",
    "plt.rcParams['figure.dpi'] = 200\n",
    "plt.rcParams['lines.linewidth'] = 1\n",
    "plt.rcParams['legend.markerscale'] = 1\n",
    "plt.rcParams['legend.fontsize'] = 4\n",
    "plt.rcParams['xtick.major.size'] = 3\n",
    "plt.rcParams['ytick.major.size'] = 3\n",
    "plt.rcParams['xtick.minor.size'] = 2\n",
    "plt.rcParams['ytick.minor.size'] = 2\n",
    "plt.rcParams['xtick.minor.width'] = 1\n",
    "plt.rcParams['ytick.minor.width'] = 1\n",
    "plt.rcParams['xtick.major.width'] = 0.8\n",
    "plt.rcParams['ytick.major.width'] = 0.8\n",
    "plt.rcParams['axes.facecolor'] = 'white'\n",
    "plt.rcParams['figure.autolayout'] = True\n",
    "plt.rcParams['mathtext.default'] = 'regular'\n",
    "plt.rcParams['xtick.color'] = 'black'\n",
    "plt.rcParams['ytick.color'] = 'black'\n",
    "plt.rcParams['axes.labelcolor'] = \"black\"\n",
    "plt.rcParams['axes.edgecolor'] = 'black'\n",
    "\n",
    "def test_data(df, model, test_seq, obs_col, output_col='pred'):\n",
    "    scaler = preprocessing.StandardScaler()\n",
    "    scaler.fit(df[obs_col].reshape(-1,1))\n",
    "    #df.loc[:,'obs_stab'] = test_df['stab_df']\n",
    "    predictions = model.predict(test_seq).reshape(-1)\n",
    "    df.loc[:,output_col] = scaler.inverse_transform(predictions)\n",
    "    return df\n",
    "\n",
    "def one_hot_encode(df, col='utr', seq_len=50):\n",
    "    # Dictionary returning one-hot encoding of nucleotides. \n",
    "    nuc_d = {'a':[1,0,0,0],'c':[0,1,0,0],'g':[0,0,1,0],'t':[0,0,0,1], 'n':[0,0,0,0]}\n",
    "    \n",
    "    # Creat empty matrix.\n",
    "    vectors=np.empty([len(df),seq_len,4])\n",
    "    \n",
    "    # Iterate through UTRs and one-hot encode\n",
    "    for i,seq in enumerate(df[col].str[:seq_len]): \n",
    "        seq = seq.lower()\n",
    "        a = np.array([nuc_d[x] for x in seq])\n",
    "        vectors[i] = a\n",
    "    return vectors\n",
    "\n",
    "def r2(x,y):\n",
    "    slope, intercept, r_value, p_value, std_err = stats.linregress(x,y)\n",
    "    return r_value**2\n"
   ]
  },
  {
   "cell_type": "markdown",
   "metadata": {},
   "source": [
    "### Load training dataset to get the original scale of MRL value."
   ]
  },
  {
   "cell_type": "code",
   "execution_count": 2,
   "metadata": {
    "collapsed": false
   },
   "outputs": [
    {
     "name": "stderr",
     "output_type": "stream",
     "text": [
      "/usr/local/lib/python2.7/dist-packages/ipykernel/__main__.py:14: SettingWithCopyWarning: \n",
      "A value is trying to be set on a copy of a slice from a DataFrame\n",
      "\n",
      "See the caveats in the documentation: http://pandas.pydata.org/pandas-docs/stable/indexing.html#indexing-view-versus-copy\n"
     ]
    },
    {
     "data": {
      "text/plain": [
       "StandardScaler(copy=True, with_mean=True, with_std=True)"
      ]
     },
     "execution_count": 2,
     "metadata": {},
     "output_type": "execute_result"
    }
   ],
   "source": [
    "df1 = pd.read_pickle('varying_length_25to100_1.pkl')\n",
    "# Get random sequences\n",
    "df = df1[df1['set']=='random']\n",
    "## Filter out UTRs with too few reads\n",
    "df=df[df['total_reads']>=10]\n",
    "df.sort_values('total_reads', inplace=True, ascending=False)\n",
    "df.reset_index(inplace=True, drop=True)\n",
    "# Split dataset into training and testing set\n",
    "e_test = pd.DataFrame(columns=df.columns)\n",
    "for i in range(25,101):\n",
    "    tmp = df[df['len']==i]\n",
    "    tmp.sort_values('total_reads', inplace=True, ascending=False)\n",
    "    tmp.reset_index(inplace=True, drop=True)\n",
    "    e_test = e_test.append(tmp.iloc[:100])\n",
    "e_train = pd.concat([df, e_test, e_test]).drop_duplicates(keep=False)\n",
    "# Load the training set MRL range into the scaler\n",
    "scaler = preprocessing.StandardScaler()\n",
    "scaler.fit(e_train['rl'].reshape(-1,1))"
   ]
  },
  {
   "cell_type": "code",
   "execution_count": 3,
   "metadata": {
    "collapsed": true
   },
   "outputs": [],
   "source": [
    "# Load model\n",
    "model = keras.models.load_model('Varying_length_25to100_model.hdf5')"
   ]
  },
  {
   "cell_type": "markdown",
   "metadata": {},
   "source": [
    "## Sequence test using the model "
   ]
  },
  {
   "cell_type": "code",
   "execution_count": 12,
   "metadata": {
    "collapsed": false
   },
   "outputs": [
    {
     "name": "stdout",
     "output_type": "stream",
     "text": [
      "       pred  \\\n",
      "0  4.673919   \n",
      "1  5.795600   \n",
      "\n",
      "                                                                                                   utr  \n",
      "0  AGGCTGCGGCCAGCCGGGGCTGACTTGTTATGTTGGGCTCCGGAGGCCGTTAAGAGCCGAGAGAGACATGAGGTGTCTCTGAAGCCCGGTCGCCTG...  \n",
      "1  AGGCTGCGGCCAGCCGGGGCTGACTTGTTACGTTGGGCTCCGGAGGCCGTTAAGAGCCGAGAGAGACATGAGGTGTCTCTGAAGCCCGGTCGCCTG...  \n"
     ]
    }
   ],
   "source": [
    "# Load 5' UTR sequence wt and variant here, pad Ns on 5' till 100 nt long if it's shorter.\n",
    "wt = 'AGGCTGCGGCCAGCCGGGGCTGACTTGTTATGTTGGGCTCCGGAGGCCGTTAAGAGCCGAGAGAGACATGAGGTGTCTCTGAAGCCCGGTCGCCTGGGCC'\n",
    "v1 = 'AGGCTGCGGCCAGCCGGGGCTGACTTGTTACGTTGGGCTCCGGAGGCCGTTAAGAGCCGAGAGAGACATGAGGTGTCTCTGAAGCCCGGTCGCCTGGGCC'\n",
    "\n",
    "df = pd.DataFrame({'utr':[wt, v1], 'pred':[0, 0]})\n",
    "test_seq = one_hot_encode(df=df, col='utr', seq_len=100)\n",
    "\n",
    "predictions = model.predict(test_seq).reshape(-1)\n",
    "df.loc[:,'pred'] = scaler.inverse_transform(predictions)\n",
    "print df"
   ]
  },
  {
   "cell_type": "code",
   "execution_count": 20,
   "metadata": {
    "collapsed": false
   },
   "outputs": [
    {
     "name": "stdout",
     "output_type": "stream",
     "text": [
      "The log 2 difference between wild type and variant on MRL is 0.31032515\n"
     ]
    }
   ],
   "source": [
    "print 'The log 2 difference between wild type and variant on MRL is ' + str(np.log2(df['pred'] / df.loc[0,'pred'])[1])"
   ]
  },
  {
   "cell_type": "markdown",
   "metadata": {},
   "source": [
    "## In silico saturation mutagenesis and model prediction of MRL change for all 5' UTR variants up to 100 nt. "
   ]
  },
  {
   "cell_type": "markdown",
   "metadata": {},
   "source": [
    "### Example of Gene ANKRD26"
   ]
  },
  {
   "cell_type": "code",
   "execution_count": 22,
   "metadata": {
    "collapsed": false
   },
   "outputs": [
    {
     "data": {
      "image/png": "[encoded data removed]",
      "text/plain": [
       "<matplotlib.figure.Figure at 0x7fd919a69d10>"
      ]
     },
     "metadata": {},
     "output_type": "display_data"
    }
   ],
   "source": [
    "seq_list = []\n",
    "# Load 5' UTR sequence here, pad Ns on 5' till 100 nt long if it's shorter.\n",
    "wt = 'AGGCTGCGGCCAGCCGGGGCTGACTTGTTATGTTGGGCTCCGGAGGCCGTTAAGAGCCGAGAGAGACATGAGGTGTCTCTGAAGCCCGGTCGCCTGGGCC'\n",
    "\n",
    "seq_list.append(wt)\n",
    "for i in range(len(wt)):\n",
    "    for n in ['A', 'G', 'C', 'T']:\n",
    "        seq_list.append(wt[:i] + n + wt[i+1:])\n",
    "\n",
    "df = pd.DataFrame({'utr':seq_list, 'pred':[0 for x in range(len(seq_list))]})\n",
    "test_seq = one_hot_encode(df=df, col='utr', seq_len=100)\n",
    "\n",
    "predictions = model.predict(test_seq).reshape(-1)\n",
    "df.loc[:,'pred'] = scaler.inverse_transform(predictions)\n",
    "\n",
    "df['diff'] = np.log2(df['pred'] / df.loc[0,'pred'])\n",
    "f, ax = plt.subplots()\n",
    "f.set_size_inches((12,2.4))\n",
    "vals = df.loc[1:,'diff'].values.reshape(100,4).T\n",
    "ax = sns.heatmap(ax=ax, data=vals, cmap=\"RdBu_r\", center=0)\n",
    "\n",
    "ax.set_yticklabels(['A', 'G', 'C', 'U'][::-1], size=15)\n",
    "xmajor_locator = ticker.MultipleLocator(5)\n",
    "#ax.xaxis.set_major_locator(xmajor_locator)\n",
    "ax.set_xticks(np.arange(0.5,100.5,5))\n",
    "ax.set_xticklabels([str(x) for x in range(-100,0,5)], rotation=0,size = 10)\n",
    "\n",
    "for _, spine in ax.spines.items():\n",
    "    spine.set_visible(True)\n",
    "ax.tick_params(axis='both', pad=1);"
   ]
  },
  {
   "cell_type": "code",
   "execution_count": null,
   "metadata": {
    "collapsed": true
   },
   "outputs": [],
   "source": []
  }
 ],
 "metadata": {
  "kernelspec": {
   "display_name": "Python 2",
   "language": "python",
   "name": "python2"
  },
  "language_info": {
   "codemirror_mode": {
    "name": "ipython",
    "version": 2
   },
   "file_extension": ".py",
   "mimetype": "text/x-python",
   "name": "python",
   "nbconvert_exporter": "python",
   "pygments_lexer": "ipython2",
   "version": "2.7.6"
  }
 },
 "nbformat": 4,
 "nbformat_minor": 2
}
